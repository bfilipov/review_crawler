{
 "cells": [
  {
   "cell_type": "code",
   "execution_count": 1,
   "metadata": {},
   "outputs": [],
   "source": [
    "## create virtual invironment and install required packages:\n",
    "# conda create --name=review_crawler python=3.7\n",
    "# conda activate review_crawler\n",
    "# pip install scrapy\n",
    "# pip install scrapy-rotating-proxies\n",
    "# pip install proxybroker\n",
    "\n",
    "## start project:\n",
    "# scrapy startproject review_crawler\n",
    "# cd review_crawler\n",
    "# scrapy genspider jd jd.com\n",
    "\n",
    "## setup:\n",
    "# Using proxy broker we create a script to generate proxy list with 100 free proxies.\n",
    "# We create custom rotating user agent middleware. \n",
    "# We set autothrottle, to slow down crawling.\n",
    "\n",
    "## run project:\n",
    "# scrapy crawl jd"
   ]
  },
  {
   "cell_type": "code",
   "execution_count": 2,
   "metadata": {},
   "outputs": [],
   "source": [
    "\n"
   ]
  }
 ],
 "metadata": {
  "kernelspec": {
   "display_name": "Python 3",
   "language": "python",
   "name": "python3"
  },
  "language_info": {
   "codemirror_mode": {
    "name": "ipython",
    "version": 3
   },
   "file_extension": ".py",
   "mimetype": "text/x-python",
   "name": "python",
   "nbconvert_exporter": "python",
   "pygments_lexer": "ipython3",
   "version": "3.7.3"
  }
 },
 "nbformat": 4,
 "nbformat_minor": 2
}
